{
 "cells": [
  {
   "cell_type": "markdown",
   "metadata": {},
   "source": [
    "# Using shallow water equations to understand large-scale dynamics\n",
    "### MAQ - 32806, Chiel van Heerwaarden, 2016\n",
    "The complete set of equations that describe atmospheric motions is too complex to easily derive important characteristics of large-scale atmospheric flow. A much simpler system that carries many of the same properties as the atmospheric flow are the shallow water equations. Gustav Rossby showed that this set of equations is a very good predictor for the evolution of the 500 hPa geopotential, and therefore can be used to do weather forecasting. Furthermore, he showed that this already simple set of equations can be simplified even more by introducing the concept of potential vorticity.\n",
    "\n",
    "The shallow water equations describe the motions of a thin layer of fluid of uniform density. In this tutorial, you will derive the shallow water equations and the potential vorticity."
   ]
  },
  {
   "cell_type": "markdown",
   "metadata": {},
   "source": [
    "## The starting point\n",
    "Our starting point are the conservation equations for momentum, and the continuity equation.\n",
    "\n",
    "$\n",
    "\\dfrac{du}{dt} = - \\dfrac{1}{\\rho_0}\\dfrac{\\partial p}{\\partial x} + fv\\\\\n",
    "\\dfrac{dv}{dt} = - \\dfrac{1}{\\rho_0}\\dfrac{\\partial p}{\\partial y} - fu\\\\\n",
    "0 = - \\dfrac{1}{\\rho_0}\\dfrac{\\partial p}{\\partial z} - g\\\\\n",
    "\\nabla \\cdot \\boldsymbol{u} = 0\n",
    "$\n",
    "\n",
    "___\n",
    "* Which simplifications have been applied to the equations of motions that are presented above?\n",
    "* Why is there no thermodynamic equation in this set?\n",
    "* Which of these simplifications would not hold if the depth of the water were not shallow?\n",
    "___"
   ]
  },
  {
   "cell_type": "markdown",
   "metadata": {},
   "source": [
    "Now, you will step-by-step derive the shallow water equations. First, you will derive an equation for $p$ from the conservation equation of the vertical component of velocity $w$. Assume that the surface is flat, and that the pressure at the top of the layer is a constant.\n",
    "___\n",
    "* Integrate the equation from 0 to $z$, and assume that the depth of the layer $h$ varies in $x$ and $y$.\n",
    "___"
   ]
  },
  {
   "cell_type": "markdown",
   "metadata": {},
   "source": [
    "With the expression derived above, it is possible to replace pressure by $h(x,y)$ in the equations above.\n",
    "___\n",
    "* Take the horizontal derivatives of the equation above and substitute these expressions into the two evolution equations for horizontal velocity.\n",
    "* Write the two evolution equations for horizontal velocity into a single equation in vector form.\n",
    "* How does the horizontal velocity vary with respect to height within the fluid layer? How can you see this in the equation?\n",
    "___"
   ]
  },
  {
   "cell_type": "code",
   "execution_count": null,
   "metadata": {
    "collapsed": true
   },
   "outputs": [],
   "source": []
  }
 ],
 "metadata": {
  "kernelspec": {
   "display_name": "Python 2",
   "language": "python",
   "name": "python2"
  },
  "language_info": {
   "codemirror_mode": {
    "name": "ipython",
    "version": 2
   },
   "file_extension": ".py",
   "mimetype": "text/x-python",
   "name": "python",
   "nbconvert_exporter": "python",
   "pygments_lexer": "ipython2",
   "version": "2.7.12"
  }
 },
 "nbformat": 4,
 "nbformat_minor": 0
}
