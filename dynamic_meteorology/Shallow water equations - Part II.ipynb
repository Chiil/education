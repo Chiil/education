{
 "cells": [
  {
   "cell_type": "markdown",
   "metadata": {},
   "source": [
    "# Using shallow water equations to understand large-scale dynamics\n",
    "### MAQ - 32806, Chiel van Heerwaarden, 2016\n",
    "In this tutorial you will use the previously derived shallow water equations to solve the famous Rossby adjustment problem in which a perturbation is added to a layer of fluid."
   ]
  },
  {
   "cell_type": "markdown",
   "metadata": {},
   "source": [
    "## 1. Bla\n",
    "More bla."
   ]
  },
  {
   "cell_type": "code",
   "execution_count": null,
   "metadata": {
    "collapsed": false
   },
   "outputs": [],
   "source": [
    "import numpy as np\n",
    "import pylab as pl\n",
    "%pylab inline"
   ]
  },
  {
   "cell_type": "code",
   "execution_count": null,
   "metadata": {
    "collapsed": false
   },
   "outputs": [],
   "source": [
    "nx = 2001\n",
    "L = 6.371e6*np.pi*np.cos(np.pi/180.*45.)\n",
    "x = np.linspace(-L, L, nx)\n",
    "dx = x[1]-x[0]\n",
    "u0 = np.zeros(nx)\n",
    "v0 = np.zeros(nx)\n",
    "h_ref   = 200.\n",
    "h_prime = 0.1\n",
    "\n",
    "# Smooth step function.\n",
    "# h0 = np.copy(x)\n",
    "# h_sigma = 20.*dx\n",
    "# for i in range(nx):\n",
    "#    h0[i] = h_ref - h_prime*np.math.erf(h0[i]/(20*dx))\n",
    "\n",
    "# Mexican hat (Ricker wavelet).\n",
    "h_sigma = 30.*dx # The wavelet is approximately 10 h_sigma in total width.\n",
    "h_width = 2./((3.*h_sigma)**.5*np.pi**.25)\n",
    "h0 = 2./((3.*h_sigma)**.5*np.pi**.25) * (1. - x**2/h_sigma**2) * np.exp(-x**2/(2.*h_sigma**2))\n",
    "h0 = h_ref - h0/np.max(h0)\n",
    "\n",
    "# Just a check that the disturbance is well enough resolved.\n",
    "pl.plot(x/h_sigma, h0 - h_ref, 'bo-')\n",
    "pl.xlim(-5, 5)\n",
    "pl.xlabel('x / h_sigma')\n",
    "pl.ylabel('h - h_ref');"
   ]
  },
  {
   "cell_type": "code",
   "execution_count": null,
   "metadata": {
    "collapsed": false
   },
   "outputs": [],
   "source": [
    "f = 1.e-4\n",
    "g = 9.81\n",
    "try:\n",
    "    Lr = (g*h_ref)**.5 / f\n",
    "except ZeroDivisionError:\n",
    "    Lr = np.infty\n",
    "finally:\n",
    "    print \"Rossby radius of deformation = {0} m\".format(Lr)\n",
    "    print \"Lr / L = {0}\".format(Lr/L)\n",
    "    print \"h_sigma / Lr = {0}\".format(h_sigma/Lr)"
   ]
  },
  {
   "cell_type": "code",
   "execution_count": null,
   "metadata": {
    "collapsed": false
   },
   "outputs": [],
   "source": [
    "u = np.copy(u0)\n",
    "v = np.copy(v0)\n",
    "h = np.copy(h0)\n",
    "\n",
    "nt = 75000\n",
    "ni = 500\n",
    "dt = 5.\n",
    "\n",
    "u_out = np.zeros((nt/ni+1, nx))\n",
    "v_out = np.zeros((nt/ni+1, nx))\n",
    "h_out = np.zeros((nt/ni+1, nx))\n",
    "u_out[0,:], v_out[0,:], h_out[0,:] = u0, v0, h0\n",
    "\n",
    "for n in range(1,nt+1):    \n",
    "    u += dt * ( -u*np.gradient(u,dx) + f*v - g*np.gradient(h,dx) )\n",
    "    v += dt * ( -u*np.gradient(v,dx) - f*u )\n",
    "    h += dt * ( -h*np.gradient(u,dx) )\n",
    "    \n",
    "    if (n%ni == 0):\n",
    "        u_out[n/ni,:] = u[:]\n",
    "        v_out[n/ni,:] = v[:]\n",
    "        h_out[n/ni,:] = h[:]"
   ]
  },
  {
   "cell_type": "code",
   "execution_count": null,
   "metadata": {
    "collapsed": false
   },
   "outputs": [],
   "source": [
    "pl.figure()\n",
    "pl.subplot(121)\n",
    "pl.plot(x/Lr, h , 'b-' )\n",
    "pl.plot(x/Lr, h0, 'b--')\n",
    "pl.xlabel('x/Lr')\n",
    "pl.ylabel('h/h_pert')\n",
    "pl.xlim(-10, 10)\n",
    "pl.subplot(122)\n",
    "pl.plot(x/Lr, u, 'b-', label='u')\n",
    "pl.plot(x/Lr, v, 'r-', label='v')\n",
    "pl.xlabel('x/Lr')\n",
    "pl.ylabel('u,v')\n",
    "pl.xlim(-10, 10)\n",
    "pl.legend(loc=0, frameon=False);"
   ]
  },
  {
   "cell_type": "code",
   "execution_count": null,
   "metadata": {
    "collapsed": false
   },
   "outputs": [],
   "source": [
    "q0 = f/h0\n",
    "q  = (np.gradient(v,dx) + f) / h\n",
    "pl.plot(x, q , label='q_end  ')\n",
    "pl.plot(x, q0, label='q_start')\n",
    "pl.xlabel('x')\n",
    "pl.ylabel('q')\n",
    "pl.legend(loc=0, frameon=False);"
   ]
  },
  {
   "cell_type": "code",
   "execution_count": null,
   "metadata": {
    "collapsed": false,
    "scrolled": true
   },
   "outputs": [],
   "source": [
    "from tempfile import NamedTemporaryFile\n",
    "\n",
    "VIDEO_TAG = \"\"\"<video controls>\n",
    " <source src=\"data:video/x-m4v;base64,{0}\" type=\"video/mp4\">\n",
    " Your browser does not support the video tag.\n",
    "</video>\"\"\"\n",
    "\n",
    "def anim_to_html(anim):\n",
    "    if not hasattr(anim, '_encoded_video'):\n",
    "        with NamedTemporaryFile(suffix='.mp4') as f:\n",
    "            anim.save(f.name, fps=20, extra_args=['-vcodec', 'libx264', '-pix_fmt', 'yuv420p'])\n",
    "            video = open(f.name, \"rb\").read()\n",
    "        anim._encoded_video = video.encode(\"base64\")\n",
    "    \n",
    "    return VIDEO_TAG.format(anim._encoded_video)\n",
    "\n",
    "from IPython.display import HTML\n",
    "\n",
    "def display_animation(anim):\n",
    "    plt.close(anim._fig)\n",
    "    return HTML(anim_to_html(anim))\n",
    "from matplotlib import animation\n",
    "\n",
    "# First set up the figure, the axis, and the plot element we want to animate\n",
    "fig = pl.figure()\n",
    "xmin, xmax = min(x), max(x)\n",
    "hmin, hmax = min(h0), max(h0)\n",
    "hmin -= 0.1*(hmax-hmin)\n",
    "hmax += 0.1*(hmax-hmin)\n",
    "ax = pl.axes(xlim=(xmin, xmax), ylim=(hmin, hmax), xlabel='x', ylabel='h')\n",
    "ax.plot(x, h_out[0,:], 'b--')\n",
    "line, = ax.plot([], [], lw=2)\n",
    "\n",
    "# initialization function: plot the background of each frame\n",
    "def init():\n",
    "    line.set_data(x, h_out[0,:])\n",
    "    return line,\n",
    "\n",
    "def animate(i):\n",
    "    line.set_data(x, h_out[i,:])\n",
    "    return line,\n",
    "\n",
    "# call the animator.  blit=True means only re-draw the parts that have changed.\n",
    "anim = animation.FuncAnimation(fig, animate, init_func=init,\n",
    "                               frames=h_out.shape[0], interval=1, blit=True)\n",
    "\n",
    "# call our new function to display the animation\n",
    "display_animation(anim)"
   ]
  },
  {
   "cell_type": "code",
   "execution_count": null,
   "metadata": {
    "collapsed": false
   },
   "outputs": [],
   "source": [
    "i_start, i_end = nx/2 - 8*np.int(h_sigma/dx), nx/2 + 8*np.int(h_sigma/dx)\n",
    "print \"Summing from x/Lr = ({0}, {1})\".format(x[i_start]/Lr, x[i_end]/Lr)\n",
    "print \"A fraction {0} of the potential energy is retained near the disturbance.\"\\\n",
    "    .format(sum((h_out[-1,i_start:i_end]-h_ref)**2)/sum((h_out[0,i_start:i_end]-h_ref)**2))\n",
    "\n",
    "pl.plot(x[i_start:i_end]/Lr, h_out[-1,i_start:i_end]-h_ref, lw=2)\n",
    "pl.plot(x[i_start:i_end]/Lr, h_out[ 0,i_start:i_end]-h_ref, 'b--')\n",
    "pl.xlim(x[i_start]/Lr, x[i_end]/Lr)\n",
    "pl.xlabel('x/Lr')\n",
    "pl.ylabel('y/Lr');"
   ]
  },
  {
   "cell_type": "markdown",
   "metadata": {},
   "source": [
    "___\n",
    "End of tutorial.\n",
    "___"
   ]
  }
 ],
 "metadata": {
  "kernelspec": {
   "display_name": "Python 2",
   "language": "python",
   "name": "python2"
  },
  "language_info": {
   "codemirror_mode": {
    "name": "ipython",
    "version": 2
   },
   "file_extension": ".py",
   "mimetype": "text/x-python",
   "name": "python",
   "nbconvert_exporter": "python",
   "pygments_lexer": "ipython2",
   "version": "2.7.12"
  }
 },
 "nbformat": 4,
 "nbformat_minor": 0
}
