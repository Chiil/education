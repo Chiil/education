{
 "cells": [
  {
   "cell_type": "markdown",
   "metadata": {},
   "source": [
    "# Using shallow water equations to understand large-scale dynamics\n",
    "### MAQ - 32806, Chiel van Heerwaarden, 2016\n",
    "In this tutorial you will use the previously derived shallow water equations to solve the famous Rossby adjustment problem in which a perturbation is added to a layer of fluid."
   ]
  },
  {
   "cell_type": "markdown",
   "metadata": {},
   "source": [
    "## 1. Bla\n",
    "More bla."
   ]
  },
  {
   "cell_type": "code",
   "execution_count": null,
   "metadata": {
    "collapsed": false
   },
   "outputs": [],
   "source": [
    "import numpy as np\n",
    "import pylab as pl\n",
    "%pylab inline"
   ]
  },
  {
   "cell_type": "code",
   "execution_count": null,
   "metadata": {
    "collapsed": false
   },
   "outputs": [],
   "source": [
    "nx = 2001\n",
    "L = 1.e7\n",
    "x = np.linspace(-L, L, nx)\n",
    "dx = x[1]-x[0]\n",
    "u0 = np.zeros(nx)\n",
    "v0 = np.zeros(nx)\n",
    "h_ref   = 100.\n",
    "h_prime = 0.1\n",
    "h0 = np.copy(x)\n",
    "for i in range(nx):\n",
    "    h0[i] = h_ref - h_prime*np.math.erf(h0[i]/(20*dx))\n",
    "\n",
    "pl.plot(x, h0, 'b-')\n",
    "pl.xlabel('x')\n",
    "pl.ylabel('h');"
   ]
  },
  {
   "cell_type": "code",
   "execution_count": null,
   "metadata": {
    "collapsed": false
   },
   "outputs": [],
   "source": [
    "f = 1.e-4\n",
    "g = 9.81\n",
    "try:\n",
    "    Lr = (g*h_ref)**.5 / f\n",
    "except ZeroDivisionError:\n",
    "    Lr = np.infty\n",
    "finally:\n",
    "    print \"Rossby radius of deformation = {0} m\".format(Lr)\n",
    "    print \"Lr / L = {0}\".format(Lr/L)"
   ]
  },
  {
   "cell_type": "code",
   "execution_count": null,
   "metadata": {
    "collapsed": false
   },
   "outputs": [],
   "source": [
    "u = np.copy(u0)\n",
    "v = np.copy(v0)\n",
    "h = np.copy(h0)\n",
    "\n",
    "nt = 100000\n",
    "ni = 500\n",
    "dt = 8.\n",
    "\n",
    "h_out = np.zeros((nt/ni+1, nx))\n",
    "h_out[0,:] = h0[:]\n",
    "\n",
    "for n in range(1,nt+1):    \n",
    "    u += dt * ( -u*np.gradient(u,dx) + f*v - g*np.gradient(h,dx) )\n",
    "    v += dt * ( -u*np.gradient(v,dx) - f*u )\n",
    "    h += dt * ( -h*np.gradient(u,dx) )\n",
    "    \n",
    "    if (n%ni == 0):\n",
    "        h_out[n/ni,:] = h[:]"
   ]
  },
  {
   "cell_type": "code",
   "execution_count": null,
   "metadata": {
    "collapsed": false
   },
   "outputs": [],
   "source": [
    "pl.figure()\n",
    "pl.subplot(121)\n",
    "pl.plot(x/Lr, h , 'b-' )\n",
    "pl.plot(x/Lr, h0, 'b--')\n",
    "pl.xlabel('x/Lr')\n",
    "pl.ylabel('h/h_pert')\n",
    "pl.xlim(-5, 5)\n",
    "pl.subplot(122)\n",
    "pl.plot(x/Lr, u, 'b-', label='u')\n",
    "pl.plot(x/Lr, v, 'r-', label='v')\n",
    "pl.xlabel('x/Lr')\n",
    "pl.ylabel('u,v')\n",
    "pl.xlim(-5, 5)\n",
    "pl.legend(loc=0, frameon=False);"
   ]
  },
  {
   "cell_type": "code",
   "execution_count": null,
   "metadata": {
    "collapsed": false
   },
   "outputs": [],
   "source": [
    "q0 = f/h0\n",
    "q  = (np.gradient(v,dx) + f) / h\n",
    "pl.plot(x, q , label='q_end  ')\n",
    "pl.plot(x, q0, label='q_start')\n",
    "pl.xlabel('x')\n",
    "pl.ylabel('q')\n",
    "pl.legend(loc=0, frameon=False);"
   ]
  },
  {
   "cell_type": "code",
   "execution_count": null,
   "metadata": {
    "collapsed": false,
    "scrolled": true
   },
   "outputs": [],
   "source": [
    "from tempfile import NamedTemporaryFile\n",
    "\n",
    "VIDEO_TAG = \"\"\"<video controls>\n",
    " <source src=\"data:video/x-m4v;base64,{0}\" type=\"video/mp4\">\n",
    " Your browser does not support the video tag.\n",
    "</video>\"\"\"\n",
    "\n",
    "def anim_to_html(anim):\n",
    "    if not hasattr(anim, '_encoded_video'):\n",
    "        with NamedTemporaryFile(suffix='.mp4') as f:\n",
    "            anim.save(f.name, fps=20, extra_args=['-vcodec', 'libx264', '-pix_fmt', 'yuv420p'])\n",
    "            video = open(f.name, \"rb\").read()\n",
    "        anim._encoded_video = video.encode(\"base64\")\n",
    "    \n",
    "    return VIDEO_TAG.format(anim._encoded_video)\n",
    "\n",
    "from IPython.display import HTML\n",
    "\n",
    "def display_animation(anim):\n",
    "    plt.close(anim._fig)\n",
    "    return HTML(anim_to_html(anim))\n",
    "from matplotlib import animation\n",
    "\n",
    "# First set up the figure, the axis, and the plot element we want to animate\n",
    "fig = pl.figure()\n",
    "xmin, xmax = min(x), max(x)\n",
    "hmin, hmax = min(h0), max(h0)\n",
    "hmin -= 0.2*(hmax-hmin)\n",
    "hmax += 0.2*(hmax-hmin)\n",
    "ax = pl.axes(xlim=(xmin, xmax), ylim=(hmin, hmax), xlabel='x', ylabel='h')\n",
    "ax.plot(x, h_out[0,:], 'b--')\n",
    "line, = ax.plot([], [], lw=2)\n",
    "\n",
    "# initialization function: plot the background of each frame\n",
    "def init():\n",
    "    line.set_data(x, h_out[0,:])\n",
    "    return line,\n",
    "\n",
    "def animate(i):\n",
    "    line.set_data(x, h_out[i,:])\n",
    "    return line,\n",
    "\n",
    "# call the animator.  blit=True means only re-draw the parts that have changed.\n",
    "anim = animation.FuncAnimation(fig, animate, init_func=init,\n",
    "                               frames=h_out.shape[0], interval=1, blit=True)\n",
    "\n",
    "# call our new function to display the animation\n",
    "display_animation(anim)"
   ]
  },
  {
   "cell_type": "code",
   "execution_count": null,
   "metadata": {
    "collapsed": true
   },
   "outputs": [],
   "source": []
  }
 ],
 "metadata": {
  "kernelspec": {
   "display_name": "Python 2",
   "language": "python",
   "name": "python2"
  },
  "language_info": {
   "codemirror_mode": {
    "name": "ipython",
    "version": 2
   },
   "file_extension": ".py",
   "mimetype": "text/x-python",
   "name": "python",
   "nbconvert_exporter": "python",
   "pygments_lexer": "ipython2",
   "version": "2.7.12"
  }
 },
 "nbformat": 4,
 "nbformat_minor": 0
}
