{
 "cells": [
  {
   "cell_type": "markdown",
   "metadata": {},
   "source": [
    "# Using shallow water equations to understand large-scale dynamics\n",
    "### MAQ - 32806, Chiel van Heerwaarden, 2016\n",
    "In this tutorial you will use the previously derived shallow water equations to solve the famous Rossby adjustment problem in which a perturbation is added to a layer of fluid."
   ]
  },
  {
   "cell_type": "markdown",
   "metadata": {},
   "source": [
    "## 1. Bla\n",
    "More bla."
   ]
  },
  {
   "cell_type": "code",
   "execution_count": 1,
   "metadata": {
    "collapsed": false
   },
   "outputs": [
    {
     "name": "stdout",
     "output_type": "stream",
     "text": [
      "Populating the interactive namespace from numpy and matplotlib\n"
     ]
    }
   ],
   "source": [
    "import numpy as np\n",
    "import pylab as pl\n",
    "%pylab inline"
   ]
  },
  {
   "cell_type": "code",
   "execution_count": 2,
   "metadata": {
    "collapsed": false
   },
   "outputs": [
    {
     "data": {
      "image/png": "[encoded data removed]",
      "text/plain": [
       "<matplotlib.figure.Figure at 0x10856cb50>"
      ]
     },
     "metadata": {},
     "output_type": "display_data"
    }
   ],
   "source": [
    "n = 2001\n",
    "L = 1.e7\n",
    "x = np.linspace(-L, L, n)\n",
    "dx = x[1]-x[0]\n",
    "u0 = np.zeros(n)\n",
    "v0 = np.zeros(n)\n",
    "h_ref   = 100.\n",
    "h_prime = 0.1\n",
    "h0 = np.copy(x)\n",
    "for i in range(n):\n",
    "    h0[i] = h_ref - h_prime*np.math.erf(h0[i]/(20*dx))\n",
    "\n",
    "pl.plot(x, h0, 'b-')\n",
    "pl.xlabel('x')\n",
    "pl.ylabel('h');"
   ]
  },
  {
   "cell_type": "code",
   "execution_count": 3,
   "metadata": {
    "collapsed": false
   },
   "outputs": [
    {
     "name": "stdout",
     "output_type": "stream",
     "text": [
      "Rossby radius of deformation = 316227.766017 m\n",
      "Lr / L = 0.0316227766017\n"
     ]
    }
   ],
   "source": [
    "f = 1.e-4\n",
    "g = 10.\n",
    "try:\n",
    "    Lr = (g*h_ref)**.5 / f\n",
    "except ZeroDivisionError:\n",
    "    Lr = np.infty\n",
    "finally:\n",
    "    print \"Rossby radius of deformation = {0} m\".format(Lr)\n",
    "    print \"Lr / L = {0}\".format(Lr/L)"
   ]
  },
  {
   "cell_type": "code",
   "execution_count": 4,
   "metadata": {
    "collapsed": false
   },
   "outputs": [],
   "source": [
    "u = np.zeros(n+2)\n",
    "v = np.zeros(n+2)\n",
    "h = np.zeros(n+2)\n",
    "u[1:-1] = u0[:]\n",
    "v[1:-1] = v0[:]\n",
    "h[1:-1] = h0[:]\n",
    "\n",
    "nt = 100000\n",
    "dt = 5.\n",
    "for t in range(nt):\n",
    "    # Set the BCs\n",
    "    u[ 0] = u[ 1]\n",
    "    u[-1] = u[-2]\n",
    "    v[ 0] = v[ 1]\n",
    "    v[-1] = v[-2]\n",
    "    h[ 0] = h[ 1]\n",
    "    h[-1] = h[-2]\n",
    "    \n",
    "    # Time integrate\n",
    "    dudt = -u[1:-1]*(u[2::]-u[0:-2])/(2.*dx) + f*v[1:-1] - g*(h[2::] - h[0:-2])/(2.*dx)\n",
    "    dvdt = -u[1:-1]*(v[2::]-v[0:-2])/(2.*dx) - f*u[1:-1]\n",
    "    dhdt = -h[1:-1]*(u[2::]-u[0:-2])/(2.*dx)\n",
    "    u[1:-1] += dt * dudt\n",
    "    v[1:-1] += dt * dvdt\n",
    "    h[1:-1] += dt * dhdt\n",
    "\n",
    "q = ((v[2::]-v[0:-2])/(2*dx) + f) / h[1:-1]\n",
    "u = u[1:-1]\n",
    "v = v[1:-1]\n",
    "h = h[1:-1]"
   ]
  },
  {
   "cell_type": "code",
   "execution_count": 5,
   "metadata": {
    "collapsed": false
   },
   "outputs": [
    {
     "data": {
      "image/png": "[encoded data removed]",
      "text/plain": [
       "<matplotlib.figure.Figure at 0x109b75250>"
      ]
     },
     "metadata": {},
     "output_type": "display_data"
    }
   ],
   "source": [
    "pl.figure()\n",
    "pl.subplot(121)\n",
    "pl.plot(x/Lr, h , 'b-' )\n",
    "pl.plot(x/Lr, h0, 'b--')\n",
    "pl.xlabel('x/Lr')\n",
    "pl.ylabel('h/h_pert')\n",
    "pl.xlim(-5, 5)\n",
    "pl.subplot(122)\n",
    "pl.plot(x/Lr, u, 'b-', label='u')\n",
    "pl.plot(x/Lr, v, 'r-', label='v')\n",
    "pl.xlim(-5, 5)\n",
    "pl.legend(loc=0, frameon=False);"
   ]
  },
  {
   "cell_type": "code",
   "execution_count": 6,
   "metadata": {
    "collapsed": false
   },
   "outputs": [
    {
     "data": {
      "text/plain": [
       "[<matplotlib.lines.Line2D at 0x109b53e50>]"
      ]
     },
     "execution_count": 6,
     "metadata": {},
     "output_type": "execute_result"
    },
    {
     "data": {
      "image/png": "[encoded data removed]",
      "text/plain": [
       "<matplotlib.figure.Figure at 0x109b69290>"
      ]
     },
     "metadata": {},
     "output_type": "display_data"
    }
   ],
   "source": [
    "q0 = f/h0\n",
    "pl.plot(x, q )\n",
    "pl.plot(x, q0)"
   ]
  },
  {
   "cell_type": "code",
   "execution_count": null,
   "metadata": {
    "collapsed": true
   },
   "outputs": [],
   "source": []
  }
 ],
 "metadata": {
  "kernelspec": {
   "display_name": "Python 2",
   "language": "python",
   "name": "python2"
  },
  "language_info": {
   "codemirror_mode": {
    "name": "ipython",
    "version": 2
   },
   "file_extension": ".py",
   "mimetype": "text/x-python",
   "name": "python",
   "nbconvert_exporter": "python",
   "pygments_lexer": "ipython2",
   "version": "2.7.12"
  }
 },
 "nbformat": 4,
 "nbformat_minor": 0
}
